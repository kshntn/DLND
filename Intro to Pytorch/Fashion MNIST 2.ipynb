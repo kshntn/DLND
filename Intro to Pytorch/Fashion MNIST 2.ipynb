{
 "cells": [
  {
   "cell_type": "code",
   "execution_count": 1,
   "metadata": {},
   "outputs": [],
   "source": [
    "import torch\n",
    "from torchvision import datasets, transforms\n",
    "\n",
    "# Define a transform to normalize the data\n",
    "transform = transforms.Compose([transforms.ToTensor(),\n",
    "                                transforms.Normalize((0.5, 0.5, 0.5), (0.5, 0.5, 0.5))])\n",
    "# Download and load the training data\n",
    "trainset = datasets.FashionMNIST('~/.pytorch/F_MNIST_data/', download=True, train=True, transform=transform)\n",
    "trainloader = torch.utils.data.DataLoader(trainset, batch_size=64, shuffle=True)\n",
    "\n",
    "# Download and load the test data\n",
    "testset = datasets.FashionMNIST('~/.pytorch/F_MNIST_data/', download=True, train=False, transform=transform)\n",
    "testloader = torch.utils.data.DataLoader(testset, batch_size=64, shuffle=True)"
   ]
  },
  {
   "cell_type": "code",
   "execution_count": 2,
   "metadata": {},
   "outputs": [],
   "source": [
    "from torch import nn, optim\n",
    "import torch.nn.functional as F\n",
    "\n",
    "class Classifier(nn.Module):\n",
    "    def __init__(self):\n",
    "        super(Classifier,self).__init__()\n",
    "        self.fc1 = nn.Linear(784, 256)\n",
    "        self.fc2 = nn.Linear(256, 128)\n",
    "        self.fc3 = nn.Linear(128, 64)\n",
    "        self.fc4 = nn.Linear(64, 10)\n",
    "        \n",
    "        self.dropout=nn.Dropout(p=0.2)\n",
    "        \n",
    "    def forward(self, x):\n",
    "        # make sure input tensor is flattened\n",
    "        x = x.view(x.shape[0], -1)\n",
    "        \n",
    "        x = self.dropout(F.relu(self.fc1(x)))\n",
    "        x = self.dropout(F.relu(self.fc2(x)))\n",
    "        x = self.dropout(F.relu(self.fc3(x)))\n",
    "        x = F.log_softmax(self.fc4(x), dim=1)\n",
    "        \n",
    "        return x"
   ]
  },
  {
   "cell_type": "code",
   "execution_count": 3,
   "metadata": {},
   "outputs": [
    {
     "name": "stdout",
     "output_type": "stream",
     "text": [
      "('Epoch  1/30', 'Training Loss:0.609..', 'Test Loss: 0.472..', 'Test Accuracy: 0.834')\n",
      "('Epoch  2/30', 'Training Loss:0.479..', 'Test Loss: 0.435..', 'Test Accuracy: 0.846')\n",
      "('Epoch  3/30', 'Training Loss:0.454..', 'Test Loss: 0.408..', 'Test Accuracy: 0.851')\n",
      "('Epoch  4/30', 'Training Loss:0.430..', 'Test Loss: 0.417..', 'Test Accuracy: 0.853')\n",
      "('Epoch  5/30', 'Training Loss:0.417..', 'Test Loss: 0.409..', 'Test Accuracy: 0.856')\n",
      "('Epoch  6/30', 'Training Loss:0.408..', 'Test Loss: 0.408..', 'Test Accuracy: 0.854')\n",
      "('Epoch  7/30', 'Training Loss:0.408..', 'Test Loss: 0.410..', 'Test Accuracy: 0.858')\n",
      "('Epoch  8/30', 'Training Loss:0.399..', 'Test Loss: 0.416..', 'Test Accuracy: 0.855')\n",
      "('Epoch  9/30', 'Training Loss:0.398..', 'Test Loss: 0.405..', 'Test Accuracy: 0.858')\n",
      "('Epoch  10/30', 'Training Loss:0.389..', 'Test Loss: 0.396..', 'Test Accuracy: 0.860')\n",
      "('Epoch  11/30', 'Training Loss:0.383..', 'Test Loss: 0.385..', 'Test Accuracy: 0.865')\n",
      "('Epoch  12/30', 'Training Loss:0.384..', 'Test Loss: 0.366..', 'Test Accuracy: 0.870')\n",
      "('Epoch  13/30', 'Training Loss:0.377..', 'Test Loss: 0.382..', 'Test Accuracy: 0.864')\n",
      "('Epoch  14/30', 'Training Loss:0.373..', 'Test Loss: 0.392..', 'Test Accuracy: 0.866')\n",
      "('Epoch  15/30', 'Training Loss:0.366..', 'Test Loss: 0.400..', 'Test Accuracy: 0.862')\n",
      "('Epoch  16/30', 'Training Loss:0.365..', 'Test Loss: 0.369..', 'Test Accuracy: 0.876')\n",
      "('Epoch  17/30', 'Training Loss:0.367..', 'Test Loss: 0.385..', 'Test Accuracy: 0.869')\n",
      "('Epoch  18/30', 'Training Loss:0.362..', 'Test Loss: 0.372..', 'Test Accuracy: 0.873')\n",
      "('Epoch  19/30', 'Training Loss:0.366..', 'Test Loss: 0.384..', 'Test Accuracy: 0.866')\n",
      "('Epoch  20/30', 'Training Loss:0.356..', 'Test Loss: 0.374..', 'Test Accuracy: 0.870')\n",
      "('Epoch  21/30', 'Training Loss:0.352..', 'Test Loss: 0.370..', 'Test Accuracy: 0.869')\n",
      "('Epoch  22/30', 'Training Loss:0.355..', 'Test Loss: 0.382..', 'Test Accuracy: 0.871')\n",
      "('Epoch  23/30', 'Training Loss:0.354..', 'Test Loss: 0.374..', 'Test Accuracy: 0.867')\n",
      "('Epoch  24/30', 'Training Loss:0.349..', 'Test Loss: 0.375..', 'Test Accuracy: 0.871')\n",
      "('Epoch  25/30', 'Training Loss:0.345..', 'Test Loss: 0.406..', 'Test Accuracy: 0.867')\n",
      "('Epoch  26/30', 'Training Loss:0.355..', 'Test Loss: 0.390..', 'Test Accuracy: 0.870')\n",
      "('Epoch  27/30', 'Training Loss:0.350..', 'Test Loss: 0.384..', 'Test Accuracy: 0.869')\n",
      "('Epoch  28/30', 'Training Loss:0.344..', 'Test Loss: 0.367..', 'Test Accuracy: 0.875')\n",
      "('Epoch  29/30', 'Training Loss:0.339..', 'Test Loss: 0.375..', 'Test Accuracy: 0.872')\n",
      "('Epoch  30/30', 'Training Loss:0.344..', 'Test Loss: 0.391..', 'Test Accuracy: 0.869')\n"
     ]
    }
   ],
   "source": [
    "\n",
    "model = Classifier()\n",
    "criterion=nn.NLLLoss()\n",
    "optimizer=optim.Adam(model.parameters(),lr=0.003)\n",
    "\n",
    "epochs=30\n",
    "steps=0\n",
    "\n",
    "train_losses,test_losses=[],[]\n",
    "for e in range(epochs):\n",
    "    running_loss=0\n",
    "    for images,labels in trainloader:\n",
    "        optimizer.zero_grad()\n",
    "        \n",
    "        log_ps=model(images)\n",
    "        loss=criterion(log_ps,labels)\n",
    "        loss.backward()\n",
    "        optimizer.step()\n",
    "        \n",
    "        running_loss+=loss.item()\n",
    "        \n",
    "    else:\n",
    "        test_loss=0\n",
    "        accuracy=0\n",
    "        \n",
    "        with torch.no_grad():\n",
    "            model.eval()\n",
    "            for images,labels in testloader:\n",
    "                log_ps=model(images)\n",
    "                test_loss+=criterion(log_ps,labels)\n",
    "                ps = torch.exp(log_ps)\n",
    "                top_p,top_class=ps.topk(1,dim=1)\n",
    "                equals= top_class==labels.view(*top_class.shape)\n",
    "                accuracy+=torch.mean(equals.type(torch.FloatTensor))\n",
    "                \n",
    "        model.train()\n",
    "        train_losses.append(running_loss/len(trainloader))\n",
    "        test_losses.append(test_loss/len(testloader))\n",
    "        \n",
    "        print(\"Epoch  {}/{}\".format(e+1,epochs),\n",
    "              \"Training Loss:{:.3f}..\".format(running_loss/len(trainloader)),\n",
    "             \"Test Loss: {:.3f}..\".format(test_loss/len(testloader)),\n",
    "             \"Test Accuracy: {:.3f}\".format(accuracy/len(testloader)))"
   ]
  },
  {
   "cell_type": "code",
   "execution_count": 4,
   "metadata": {},
   "outputs": [],
   "source": [
    "import matplotlib.pyplot as plt"
   ]
  },
  {
   "cell_type": "code",
   "execution_count": 5,
   "metadata": {},
   "outputs": [
    {
     "data": {
      "text/plain": [
       "<matplotlib.legend.Legend at 0x7f7b0a7f4190>"
      ]
     },
     "execution_count": 5,
     "metadata": {},
     "output_type": "execute_result"
    },
    {
     "data": {
      "image/png": "[encoded data removed]",
      "text/plain": [
       "<Figure size 432x288 with 1 Axes>"
      ]
     },
     "metadata": {
      "needs_background": "light"
     },
     "output_type": "display_data"
    }
   ],
   "source": [
    "plt.plot(train_losses,label='Training Loss')\n",
    "plt.plot(test_losses,label='Validation Loss')\n",
    "plt.legend(frameon=False)"
   ]
  },
  {
   "cell_type": "code",
   "execution_count": 7,
   "metadata": {},
   "outputs": [
    {
     "name": "stdout",
     "output_type": "stream",
     "text": [
      "Our Model: \n",
      "\n",
      "Classifier(\n",
      "  (fc1): Linear(in_features=784, out_features=256, bias=True)\n",
      "  (fc2): Linear(in_features=256, out_features=128, bias=True)\n",
      "  (fc3): Linear(in_features=128, out_features=64, bias=True)\n",
      "  (fc4): Linear(in_features=64, out_features=10, bias=True)\n",
      "  (dropout): Dropout(p=0.2)\n",
      ") \n",
      "\n",
      "The State dict keys: \n",
      "\n",
      "['fc1.weight', 'fc1.bias', 'fc2.weight', 'fc2.bias', 'fc3.weight', 'fc3.bias', 'fc4.weight', 'fc4.bias']\n"
     ]
    }
   ],
   "source": [
    "print \"Our Model: \\n\\n\",model,\"\\n\"\n",
    "print \"The State dict keys: \\n\\n\",model.state_dict().keys()"
   ]
  },
  {
   "cell_type": "code",
   "execution_count": 8,
   "metadata": {},
   "outputs": [],
   "source": [
    "torch.save(model.state_dict(),'checkpoint.pth')"
   ]
  },
  {
   "cell_type": "code",
   "execution_count": 11,
   "metadata": {},
   "outputs": [
    {
     "name": "stdout",
     "output_type": "stream",
     "text": [
      "['fc1.weight', 'fc1.bias', 'fc2.weight', 'fc2.bias', 'fc3.weight', 'fc3.bias', 'fc4.weight', 'fc4.bias']\n"
     ]
    }
   ],
   "source": [
    "state_dict=torch.load('checkpoint.pth')\n",
    "print state_dict.keys()"
   ]
  },
  {
   "cell_type": "code",
   "execution_count": 13,
   "metadata": {},
   "outputs": [],
   "source": [
    "model.load_state_dict(state_dict)"
   ]
  },
  {
   "cell_type": "code",
   "execution_count": null,
   "metadata": {},
   "outputs": [],
   "source": []
  }
 ],
 "metadata": {
  "kernelspec": {
   "display_name": "Python 2",
   "language": "python",
   "name": "python2"
  },
  "language_info": {
   "codemirror_mode": {
    "name": "ipython",
    "version": 2
   },
   "file_extension": ".py",
   "mimetype": "text/x-python",
   "name": "python",
   "nbconvert_exporter": "python",
   "pygments_lexer": "ipython2",
   "version": "2.7.12"
  }
 },
 "nbformat": 4,
 "nbformat_minor": 2
}
