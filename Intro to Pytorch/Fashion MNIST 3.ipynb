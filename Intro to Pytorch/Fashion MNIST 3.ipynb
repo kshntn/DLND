{
 "cells": [
  {
   "cell_type": "code",
   "execution_count": 60,
   "metadata": {},
   "outputs": [],
   "source": [
    "import matplotlib.pyplot as plt\n",
    "\n",
    "import torch\n",
    "from torch import nn\n",
    "from torch import optim\n",
    "import torch.nn.functional as F\n",
    "from torchvision import datasets, transforms\n",
    "\n",
    "import helper\n",
    "import fc_model"
   ]
  },
  {
   "cell_type": "code",
   "execution_count": 61,
   "metadata": {},
   "outputs": [],
   "source": [
    "transform = transforms.Compose([transforms.ToTensor(),\n",
    "                                transforms.Normalize((0.5,), (0.5,))])\n",
    "# Download and load the training data\n",
    "trainset = datasets.FashionMNIST('F_MNIST_data/', download=True, train=True, transform=transform)\n",
    "trainloader = torch.utils.data.DataLoader(trainset, batch_size=64, shuffle=True)\n",
    "\n",
    "# Download and load the test data\n",
    "testset = datasets.FashionMNIST('F_MNIST_data/', download=True, train=False, transform=transform)\n",
    "testloader = torch.utils.data.DataLoader(testset, batch_size=64, shuffle=True)"
   ]
  },
  {
   "cell_type": "code",
   "execution_count": 62,
   "metadata": {},
   "outputs": [
    {
     "data": {
      "image/png": "[encoded data removed]",
      "text/plain": [
       "<Figure size 432x288 with 1 Axes>"
      ]
     },
     "metadata": {
      "needs_background": "light"
     },
     "output_type": "display_data"
    }
   ],
   "source": [
    "image, label = next(iter(trainloader))\n",
    "helper.imshow(image[0,:]);"
   ]
  },
  {
   "cell_type": "code",
   "execution_count": 63,
   "metadata": {},
   "outputs": [],
   "source": [
    "model = fc_model.Network(784, 10, [512, 256, 128])\n",
    "criterion = nn.NLLLoss()\n",
    "optimizer = optim.Adam(model.parameters(), lr=0.001)"
   ]
  },
  {
   "cell_type": "code",
   "execution_count": 64,
   "metadata": {},
   "outputs": [
    {
     "name": "stdout",
     "output_type": "stream",
     "text": [
      "('Epoch: 1/2.. ', 'Training Loss: 1.640.. ', 'Test Loss: 0.964.. ', 'Test Accuracy: 0.623')\n",
      "('Epoch: 1/2.. ', 'Training Loss: 1.025.. ', 'Test Loss: 0.777.. ', 'Test Accuracy: 0.708')\n",
      "('Epoch: 1/2.. ', 'Training Loss: 0.882.. ', 'Test Loss: 0.670.. ', 'Test Accuracy: 0.748')\n",
      "('Epoch: 1/2.. ', 'Training Loss: 0.789.. ', 'Test Loss: 0.651.. ', 'Test Accuracy: 0.756')\n",
      "('Epoch: 1/2.. ', 'Training Loss: 0.772.. ', 'Test Loss: 0.640.. ', 'Test Accuracy: 0.760')\n",
      "('Epoch: 1/2.. ', 'Training Loss: 0.714.. ', 'Test Loss: 0.584.. ', 'Test Accuracy: 0.772')\n",
      "('Epoch: 1/2.. ', 'Training Loss: 0.713.. ', 'Test Loss: 0.600.. ', 'Test Accuracy: 0.782')\n",
      "('Epoch: 1/2.. ', 'Training Loss: 0.701.. ', 'Test Loss: 0.560.. ', 'Test Accuracy: 0.789')\n",
      "('Epoch: 1/2.. ', 'Training Loss: 0.639.. ', 'Test Loss: 0.558.. ', 'Test Accuracy: 0.790')\n",
      "('Epoch: 1/2.. ', 'Training Loss: 0.675.. ', 'Test Loss: 0.558.. ', 'Test Accuracy: 0.785')\n",
      "('Epoch: 1/2.. ', 'Training Loss: 0.618.. ', 'Test Loss: 0.557.. ', 'Test Accuracy: 0.789')\n",
      "('Epoch: 1/2.. ', 'Training Loss: 0.640.. ', 'Test Loss: 0.520.. ', 'Test Accuracy: 0.804')\n",
      "('Epoch: 1/2.. ', 'Training Loss: 0.584.. ', 'Test Loss: 0.520.. ', 'Test Accuracy: 0.806')\n",
      "('Epoch: 1/2.. ', 'Training Loss: 0.613.. ', 'Test Loss: 0.521.. ', 'Test Accuracy: 0.808')\n",
      "('Epoch: 1/2.. ', 'Training Loss: 0.617.. ', 'Test Loss: 0.529.. ', 'Test Accuracy: 0.799')\n",
      "('Epoch: 1/2.. ', 'Training Loss: 0.607.. ', 'Test Loss: 0.495.. ', 'Test Accuracy: 0.818')\n",
      "('Epoch: 1/2.. ', 'Training Loss: 0.572.. ', 'Test Loss: 0.501.. ', 'Test Accuracy: 0.816')\n",
      "('Epoch: 1/2.. ', 'Training Loss: 0.596.. ', 'Test Loss: 0.502.. ', 'Test Accuracy: 0.817')\n",
      "('Epoch: 1/2.. ', 'Training Loss: 0.584.. ', 'Test Loss: 0.505.. ', 'Test Accuracy: 0.812')\n",
      "('Epoch: 1/2.. ', 'Training Loss: 0.581.. ', 'Test Loss: 0.490.. ', 'Test Accuracy: 0.818')\n",
      "('Epoch: 1/2.. ', 'Training Loss: 0.584.. ', 'Test Loss: 0.498.. ', 'Test Accuracy: 0.821')\n",
      "('Epoch: 1/2.. ', 'Training Loss: 0.540.. ', 'Test Loss: 0.507.. ', 'Test Accuracy: 0.813')\n",
      "('Epoch: 1/2.. ', 'Training Loss: 0.556.. ', 'Test Loss: 0.491.. ', 'Test Accuracy: 0.821')\n",
      "('Epoch: 2/2.. ', 'Training Loss: 0.567.. ', 'Test Loss: 0.476.. ', 'Test Accuracy: 0.831')\n",
      "('Epoch: 2/2.. ', 'Training Loss: 0.588.. ', 'Test Loss: 0.492.. ', 'Test Accuracy: 0.823')\n",
      "('Epoch: 2/2.. ', 'Training Loss: 0.562.. ', 'Test Loss: 0.474.. ', 'Test Accuracy: 0.830')\n",
      "('Epoch: 2/2.. ', 'Training Loss: 0.543.. ', 'Test Loss: 0.485.. ', 'Test Accuracy: 0.822')\n",
      "('Epoch: 2/2.. ', 'Training Loss: 0.547.. ', 'Test Loss: 0.475.. ', 'Test Accuracy: 0.822')\n",
      "('Epoch: 2/2.. ', 'Training Loss: 0.516.. ', 'Test Loss: 0.469.. ', 'Test Accuracy: 0.830')\n",
      "('Epoch: 2/2.. ', 'Training Loss: 0.538.. ', 'Test Loss: 0.455.. ', 'Test Accuracy: 0.833')\n",
      "('Epoch: 2/2.. ', 'Training Loss: 0.554.. ', 'Test Loss: 0.455.. ', 'Test Accuracy: 0.834')\n",
      "('Epoch: 2/2.. ', 'Training Loss: 0.542.. ', 'Test Loss: 0.464.. ', 'Test Accuracy: 0.832')\n",
      "('Epoch: 2/2.. ', 'Training Loss: 0.550.. ', 'Test Loss: 0.462.. ', 'Test Accuracy: 0.833')\n",
      "('Epoch: 2/2.. ', 'Training Loss: 0.522.. ', 'Test Loss: 0.447.. ', 'Test Accuracy: 0.834')\n",
      "('Epoch: 2/2.. ', 'Training Loss: 0.524.. ', 'Test Loss: 0.454.. ', 'Test Accuracy: 0.835')\n",
      "('Epoch: 2/2.. ', 'Training Loss: 0.509.. ', 'Test Loss: 0.453.. ', 'Test Accuracy: 0.836')\n",
      "('Epoch: 2/2.. ', 'Training Loss: 0.517.. ', 'Test Loss: 0.452.. ', 'Test Accuracy: 0.832')\n",
      "('Epoch: 2/2.. ', 'Training Loss: 0.523.. ', 'Test Loss: 0.452.. ', 'Test Accuracy: 0.837')\n",
      "('Epoch: 2/2.. ', 'Training Loss: 0.513.. ', 'Test Loss: 0.444.. ', 'Test Accuracy: 0.839')\n",
      "('Epoch: 2/2.. ', 'Training Loss: 0.514.. ', 'Test Loss: 0.443.. ', 'Test Accuracy: 0.836')\n",
      "('Epoch: 2/2.. ', 'Training Loss: 0.512.. ', 'Test Loss: 0.442.. ', 'Test Accuracy: 0.840')\n",
      "('Epoch: 2/2.. ', 'Training Loss: 0.491.. ', 'Test Loss: 0.445.. ', 'Test Accuracy: 0.839')\n",
      "('Epoch: 2/2.. ', 'Training Loss: 0.512.. ', 'Test Loss: 0.449.. ', 'Test Accuracy: 0.840')\n",
      "('Epoch: 2/2.. ', 'Training Loss: 0.538.. ', 'Test Loss: 0.460.. ', 'Test Accuracy: 0.831')\n",
      "('Epoch: 2/2.. ', 'Training Loss: 0.521.. ', 'Test Loss: 0.451.. ', 'Test Accuracy: 0.835')\n",
      "('Epoch: 2/2.. ', 'Training Loss: 0.528.. ', 'Test Loss: 0.440.. ', 'Test Accuracy: 0.842')\n"
     ]
    }
   ],
   "source": [
    "fc_model.train(model, trainloader, testloader, criterion, optimizer, epochs=2)"
   ]
  },
  {
   "cell_type": "code",
   "execution_count": 65,
   "metadata": {},
   "outputs": [
    {
     "name": "stdout",
     "output_type": "stream",
     "text": [
      "Our model: \n",
      "\n",
      "Network(\n",
      "  (hidden_layers): ModuleList(\n",
      "    (0): Linear(in_features=784, out_features=512, bias=True)\n",
      "    (1): Linear(in_features=512, out_features=256, bias=True)\n",
      "    (2): Linear(in_features=256, out_features=128, bias=True)\n",
      "  )\n",
      "  (output): Linear(in_features=128, out_features=10, bias=True)\n",
      "  (dropout): Dropout(p=0.5)\n",
      ") \n",
      "\n",
      "The state dict keys: \n",
      "\n",
      "['hidden_layers.0.weight', 'hidden_layers.0.bias', 'hidden_layers.1.weight', 'hidden_layers.1.bias', 'hidden_layers.2.weight', 'hidden_layers.2.bias', 'output.weight', 'output.bias']\n"
     ]
    }
   ],
   "source": [
    "print \"Our model: \\n\\n\", model, '\\n'\n",
    "print \"The state dict keys: \\n\\n\", model.state_dict().keys()"
   ]
  },
  {
   "cell_type": "code",
   "execution_count": 66,
   "metadata": {},
   "outputs": [],
   "source": [
    "torch.save(model.state_dict(), 'checkpoint.pth')"
   ]
  },
  {
   "cell_type": "code",
   "execution_count": 71,
   "metadata": {},
   "outputs": [
    {
     "name": "stdout",
     "output_type": "stream",
     "text": [
      "['hidden_layers.0.weight', 'hidden_layers.0.bias', 'hidden_layers.1.weight', 'hidden_layers.1.bias', 'hidden_layers.2.weight', 'hidden_layers.2.bias', 'output.weight', 'output.bias']\n"
     ]
    }
   ],
   "source": [
    "state_dict = torch.load('checkpoint.pth')\n",
    "print(state_dict.keys())"
   ]
  },
  {
   "cell_type": "code",
   "execution_count": 73,
   "metadata": {},
   "outputs": [],
   "source": [
    "model.load_state_dict(state_dict)"
   ]
  },
  {
   "cell_type": "code",
   "execution_count": 74,
   "metadata": {},
   "outputs": [],
   "source": [
    "# Try this\n",
    "model = fc_model.Network(784, 10, [400, 200, 100])\n",
    "# This will throw an error because the tensor sizes are wrong!\n",
    "# model.load_state_dict(state_dict)"
   ]
  },
  {
   "cell_type": "code",
   "execution_count": 75,
   "metadata": {},
   "outputs": [],
   "source": [
    "checkpoint = {'input_size': 784,\n",
    "              'output_size': 10,\n",
    "              'hidden_layers': [each.out_features for each in model.hidden_layers],\n",
    "              'state_dict': model.state_dict()}\n",
    "\n",
    "torch.save(checkpoint, 'checkpoint.pth')"
   ]
  },
  {
   "cell_type": "code",
   "execution_count": 56,
   "metadata": {},
   "outputs": [],
   "source": [
    "def load_checkpoint(filepath):\n",
    "    checkpoint = torch.load(filepath)\n",
    "    model = fc_model.Network(checkpoint['input_size'],\n",
    "                             checkpoint['output_size'],\n",
    "                             checkpoint['hidden_layers'])\n",
    "    model.load_state_dict(checkpoint['state_dict'])\n",
    "    \n",
    "    return model"
   ]
  },
  {
   "cell_type": "code",
   "execution_count": 57,
   "metadata": {},
   "outputs": [
    {
     "name": "stdout",
     "output_type": "stream",
     "text": [
      "Network(\n",
      "  (hidden_layers): ModuleList(\n",
      "    (0): Linear(in_features=784, out_features=400, bias=True)\n",
      "    (1): Linear(in_features=400, out_features=200, bias=True)\n",
      "    (2): Linear(in_features=200, out_features=100, bias=True)\n",
      "  )\n",
      "  (output): Linear(in_features=100, out_features=10, bias=True)\n",
      "  (dropout): Dropout(p=0.5)\n",
      ")\n"
     ]
    }
   ],
   "source": [
    "model = load_checkpoint('checkpoint.pth')\n",
    "print(model)"
   ]
  },
  {
   "cell_type": "code",
   "execution_count": null,
   "metadata": {},
   "outputs": [],
   "source": []
  },
  {
   "cell_type": "code",
   "execution_count": null,
   "metadata": {},
   "outputs": [],
   "source": []
  },
  {
   "cell_type": "code",
   "execution_count": null,
   "metadata": {},
   "outputs": [],
   "source": []
  }
 ],
 "metadata": {
  "kernelspec": {
   "display_name": "Python 2",
   "language": "python",
   "name": "python2"
  },
  "language_info": {
   "codemirror_mode": {
    "name": "ipython",
    "version": 2
   },
   "file_extension": ".py",
   "mimetype": "text/x-python",
   "name": "python",
   "nbconvert_exporter": "python",
   "pygments_lexer": "ipython2",
   "version": "2.7.12"
  }
 },
 "nbformat": 4,
 "nbformat_minor": 2
}
